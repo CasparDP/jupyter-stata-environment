{
 "cells": [
  {
   "cell_type": "markdown",
   "metadata": {},
   "source": [
    "# Mixed Python and Stata Analysis\n",
    "\n",
    "This notebook demonstrates how to combine Python and Stata in the same workflow using magic commands."
   ]
  },
  {
   "cell_type": "code",
   "execution_count": 1,
   "metadata": {},
   "outputs": [
    {
     "ename": "ImportError",
     "evalue": "cannot import name 'config_stata' from 'nbstata' (/Users/casparm4/Library/Caches/pypoetry/virtualenvs/jupyter-stata-environment-IHKJBeOb-py3.13/lib/python3.13/site-packages/nbstata/__init__.py)",
     "output_type": "error",
     "traceback": [
      "\u001b[31m---------------------------------------------------------------------------\u001b[39m",
      "\u001b[31mImportError\u001b[39m                               Traceback (most recent call last)",
      "\u001b[36mCell\u001b[39m\u001b[36m \u001b[39m\u001b[32mIn[1]\u001b[39m\u001b[32m, line 6\u001b[39m\n\u001b[32m      4\u001b[39m \u001b[38;5;28;01mimport\u001b[39;00m\u001b[38;5;250m \u001b[39m\u001b[34;01mmatplotlib\u001b[39;00m\u001b[34;01m.\u001b[39;00m\u001b[34;01mpyplot\u001b[39;00m\u001b[38;5;250m \u001b[39m\u001b[38;5;28;01mas\u001b[39;00m\u001b[38;5;250m \u001b[39m\u001b[34;01mplt\u001b[39;00m\n\u001b[32m      5\u001b[39m \u001b[38;5;28;01mimport\u001b[39;00m\u001b[38;5;250m \u001b[39m\u001b[34;01mseaborn\u001b[39;00m\u001b[38;5;250m \u001b[39m\u001b[38;5;28;01mas\u001b[39;00m\u001b[38;5;250m \u001b[39m\u001b[34;01msns\u001b[39;00m\n\u001b[32m----> \u001b[39m\u001b[32m6\u001b[39m \u001b[38;5;28;01mfrom\u001b[39;00m\u001b[38;5;250m \u001b[39m\u001b[34;01mnbstata\u001b[39;00m\u001b[38;5;250m \u001b[39m\u001b[38;5;28;01mimport\u001b[39;00m config_stata\n\u001b[32m      8\u001b[39m \u001b[38;5;66;03m# Set up plotting style\u001b[39;00m\n\u001b[32m      9\u001b[39m sns.set_style(\u001b[33m\"\u001b[39m\u001b[33mwhitegrid\u001b[39m\u001b[33m\"\u001b[39m)\n",
      "\u001b[31mImportError\u001b[39m: cannot import name 'config_stata' from 'nbstata' (/Users/casparm4/Library/Caches/pypoetry/virtualenvs/jupyter-stata-environment-IHKJBeOb-py3.13/lib/python3.13/site-packages/nbstata/__init__.py)"
     ]
    }
   ],
   "source": [
    "# Import necessary Python packages\n",
    "import pandas as pd\n",
    "import numpy as np\n",
    "import matplotlib.pyplot as plt\n",
    "import seaborn as sns\n",
    "from nbstata import config_stata\n",
    "\n",
    "# Set up plotting style\n",
    "sns.set_style(\"whitegrid\")\n",
    "%matplotlib inline"
   ]
  },
  {
   "cell_type": "markdown",
   "metadata": {},
   "source": [
    "## Generate Data in Python"
   ]
  },
  {
   "cell_type": "code",
   "execution_count": null,
   "metadata": {},
   "outputs": [],
   "source": [
    "# Generate synthetic data\n",
    "np.random.seed(42)\n",
    "n = 1000\n",
    "\n",
    "data = pd.DataFrame({\n",
    "    'x1': np.random.normal(0, 1, n),\n",
    "    'x2': np.random.normal(0, 1, n),\n",
    "    'x3': np.random.uniform(0, 1, n),\n",
    "    'group': np.random.choice(['A', 'B', 'C'], n)\n",
    "})\n",
    "\n",
    "# Create dependent variable with some relationship\n",
    "data['y'] = (2 * data['x1'] - 1.5 * data['x2'] + \n",
    "             3 * data['x3'] + \n",
    "             data['group'].map({'A': 0, 'B': 1, 'C': 2}) +\n",
    "             np.random.normal(0, 0.5, n))\n",
    "\n",
    "print(data.head())\n",
    "print(f\"\\nDataset shape: {data.shape}\")"
   ]
  },
  {
   "cell_type": "markdown",
   "metadata": {},
   "source": [
    "## Python Analysis"
   ]
  },
  {
   "cell_type": "code",
   "execution_count": null,
   "metadata": {},
   "outputs": [],
   "source": [
    "# Basic descriptive statistics in Python\n",
    "print(\"Descriptive Statistics (Python):\")\n",
    "print(data.describe())\n",
    "\n",
    "# Correlation matrix\n",
    "print(\"\\nCorrelation Matrix:\")\n",
    "print(data[['y', 'x1', 'x2', 'x3']].corr())"
   ]
  },
  {
   "cell_type": "code",
   "execution_count": null,
   "metadata": {},
   "outputs": [],
   "source": [
    "# Visualization with Python\n",
    "fig, axes = plt.subplots(2, 2, figsize=(12, 10))\n",
    "\n",
    "# Histogram of y\n",
    "axes[0, 0].hist(data['y'], bins=30, edgecolor='black', alpha=0.7)\n",
    "axes[0, 0].set_title('Distribution of Y')\n",
    "axes[0, 0].set_xlabel('Y')\n",
    "axes[0, 0].set_ylabel('Frequency')\n",
    "\n",
    "# Scatter plot\n",
    "axes[0, 1].scatter(data['x1'], data['y'], alpha=0.5)\n",
    "axes[0, 1].set_title('Y vs X1')\n",
    "axes[0, 1].set_xlabel('X1')\n",
    "axes[0, 1].set_ylabel('Y')\n",
    "\n",
    "# Box plot by group\n",
    "data.boxplot(column='y', by='group', ax=axes[1, 0])\n",
    "axes[1, 0].set_title('Y by Group')\n",
    "\n",
    "# Correlation heatmap\n",
    "corr = data[['y', 'x1', 'x2', 'x3']].corr()\n",
    "sns.heatmap(corr, annot=True, cmap='coolwarm', center=0, ax=axes[1, 1])\n",
    "axes[1, 1].set_title('Correlation Heatmap')\n",
    "\n",
    "plt.tight_layout()\n",
    "plt.show()"
   ]
  },
  {
   "cell_type": "markdown",
   "metadata": {},
   "source": [
    "## Transfer Data to Stata\n",
    "\n",
    "Now let's save the data and analyze it in Stata:"
   ]
  },
  {
   "cell_type": "code",
   "execution_count": null,
   "metadata": {},
   "outputs": [],
   "source": [
    "# Save data for Stata\n",
    "data.to_stata('temp_data.dta', write_index=False)\n",
    "print(\"Data saved to temp_data.dta\")"
   ]
  },
  {
   "cell_type": "code",
   "execution_count": null,
   "metadata": {},
   "outputs": [],
   "source": [
    "%%stata\n",
    "* Load the data created in Python\n",
    "use temp_data.dta, clear\n",
    "\n",
    "* Display basic information\n",
    "describe\n",
    "summarize"
   ]
  },
  {
   "cell_type": "markdown",
   "metadata": {},
   "source": [
    "## Stata Regression Analysis"
   ]
  },
  {
   "cell_type": "code",
   "execution_count": null,
   "metadata": {},
   "outputs": [],
   "source": [
    "%%stata\n",
    "* Encode string variable for regression\n",
    "encode group, generate(group_num)\n",
    "\n",
    "* Run regression\n",
    "regress y x1 x2 x3 i.group_num\n",
    "\n",
    "* Store results\n",
    "estimates store model1"
   ]
  },
  {
   "cell_type": "code",
   "execution_count": null,
   "metadata": {},
   "outputs": [],
   "source": [
    "%%stata\n",
    "* Post-estimation diagnostics\n",
    "estat vif\n",
    "estat hettest\n",
    "estat ovtest"
   ]
  },
  {
   "cell_type": "code",
   "execution_count": null,
   "metadata": {},
   "outputs": [],
   "source": [
    "%%stata\n",
    "* Marginal effects plot\n",
    "margins group_num, atmeans\n",
    "marginsplot, title(\"Predicted Values by Group\")"
   ]
  },
  {
   "cell_type": "markdown",
   "metadata": {},
   "source": [
    "## Advanced Stata Analysis"
   ]
  },
  {
   "cell_type": "code",
   "execution_count": null,
   "metadata": {},
   "outputs": [],
   "source": [
    "%%stata\n",
    "* Quantile regression\n",
    "qreg y x1 x2 x3 i.group_num, quantile(0.25)\n",
    "estimates store q25\n",
    "\n",
    "qreg y x1 x2 x3 i.group_num, quantile(0.50)\n",
    "estimates store q50\n",
    "\n",
    "qreg y x1 x2 x3 i.group_num, quantile(0.75)\n",
    "estimates store q75\n",
    "\n",
    "* Compare results\n",
    "estimates table model1 q25 q50 q75, b(%9.3f) se(%9.3f)"
   ]
  },
  {
   "cell_type": "markdown",
   "metadata": {},
   "source": [
    "## Back to Python for Final Visualization"
   ]
  },
  {
   "cell_type": "code",
   "execution_count": null,
   "metadata": {},
   "outputs": [],
   "source": [
    "# Read the Stata file back into Python\n",
    "data_processed = pd.read_stata('temp_data.dta')\n",
    "\n",
    "# You could also get predictions from Stata and visualize them in Python\n",
    "print(\"Data successfully read back into Python\")\n",
    "print(f\"Processed data shape: {data_processed.shape}\")"
   ]
  },
  {
   "cell_type": "code",
   "execution_count": null,
   "metadata": {},
   "outputs": [],
   "source": [
    "# Clean up temporary file\n",
    "import os\n",
    "if os.path.exists('temp_data.dta'):\n",
    "    os.remove('temp_data.dta')\n",
    "    print(\"Temporary file cleaned up\")"
   ]
  },
  {
   "cell_type": "markdown",
   "metadata": {},
   "source": [
    "## Summary\n",
    "\n",
    "This notebook demonstrated how to:\n",
    "1. Generate and manipulate data in Python\n",
    "2. Transfer data between Python and Stata\n",
    "3. Perform statistical analysis in Stata\n",
    "4. Use Stata magic commands (%%stata) in Python notebooks\n",
    "5. Combine the strengths of both languages in a single workflow\n",
    "\n",
    "This approach allows you to leverage:\n",
    "- Python's data manipulation and visualization libraries\n",
    "- Stata's specialized econometric and statistical procedures\n",
    "- The best of both worlds in a single, reproducible notebook"
   ]
  }
 ],
 "metadata": {
  "kernelspec": {
   "display_name": "jupyter-stata-environment-IHKJBeOb-py3.13",
   "language": "python",
   "name": "python3"
  },
  "language_info": {
   "codemirror_mode": {
    "name": "ipython",
    "version": 3
   },
   "file_extension": ".py",
   "mimetype": "text/x-python",
   "name": "python",
   "nbconvert_exporter": "python",
   "pygments_lexer": "ipython3",
   "version": "3.13.7"
  }
 },
 "nbformat": 4,
 "nbformat_minor": 4
}
