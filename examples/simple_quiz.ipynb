{
 "cells": [
  {
   "cell_type": "markdown",
   "metadata": {},
   "source": [
    "# Simple Stata Quiz\n",
    "\n",
    "**Total Points: 5**\n",
    "\n",
    "This is a simpler example showing basic NBGrader patterns with Stata."
   ]
  },
  {
   "cell_type": "code",
   "execution_count": null,
   "metadata": {
    "deletable": false,
    "editable": false,
    "nbgrader": {
     "cell_type": "code",
     "checksum": "",
     "grade": false,
     "grade_id": "setup",
     "locked": true,
     "schema_version": 3,
     "solution": false,
     "task": false
    }
   },
   "outputs": [],
   "source": [
    "* Setup - DO NOT MODIFY\n",
    "clear all\n",
    "sysuse auto, clear"
   ]
  },
  {
   "cell_type": "markdown",
   "metadata": {},
   "source": [
    "## Question 1: Calculate Mean (1 point)\n",
    "\n",
    "Calculate the mean of `price` and store it in a scalar called `mean_price`."
   ]
  },
  {
   "cell_type": "code",
   "execution_count": null,
   "metadata": {
    "deletable": false,
    "nbgrader": {
     "cell_type": "code",
     "checksum": "",
     "grade": false,
     "grade_id": "q1_answer",
     "locked": false,
     "schema_version": 3,
     "solution": true,
     "task": false
    }
   },
   "outputs": [],
   "source": [
    "* Calculate mean price\n",
    "* YOUR CODE HERE\n",
    "summarize price\n",
    "scalar mean_price = r(mean)"
   ]
  },
  {
   "cell_type": "code",
   "execution_count": null,
   "metadata": {
    "deletable": false,
    "editable": false,
    "nbgrader": {
     "cell_type": "code",
     "checksum": "",
     "grade": true,
     "grade_id": "q1_test",
     "locked": true,
     "points": 1,
     "schema_version": 3,
     "solution": false,
     "task": false
    }
   },
   "outputs": [],
   "source": [
    "* Test\n",
    "capture scalar list mean_price\n",
    "assert _rc == 0\n",
    "quietly summarize price\n",
    "assert abs(mean_price - r(mean)) < 0.01\n",
    "display \"Question 1: PASSED\""
   ]
  },
  {
   "cell_type": "markdown",
   "metadata": {},
   "source": [
    "## Question 2: Create Binary Variable (2 points)\n",
    "\n",
    "Create a binary variable `is_foreign` that equals 1 if the car is foreign and 0 otherwise."
   ]
  },
  {
   "cell_type": "code",
   "execution_count": null,
   "metadata": {
    "deletable": false,
    "nbgrader": {
     "cell_type": "code",
     "checksum": "",
     "grade": false,
     "grade_id": "q2_answer",
     "locked": false,
     "schema_version": 3,
     "solution": true,
     "task": false
    }
   },
   "outputs": [],
   "source": [
    "* Create is_foreign variable\n",
    "* YOUR CODE HERE\n",
    "gen is_foreign = foreign"
   ]
  },
  {
   "cell_type": "code",
   "execution_count": null,
   "metadata": {
    "deletable": false,
    "editable": false,
    "nbgrader": {
     "cell_type": "code",
     "checksum": "",
     "grade": true,
     "grade_id": "q2_test",
     "locked": true,
     "points": 2,
     "schema_version": 3,
     "solution": false,
     "task": false
    }
   },
   "outputs": [],
   "source": [
    "* Test Part 1: Variable exists (1 point)\n",
    "capture confirm variable is_foreign\n",
    "assert _rc == 0\n",
    "display \"Part 1: Variable exists - PASSED\"\n",
    "\n",
    "* Test Part 2: Values are correct (1 point)  \n",
    "quietly count if foreign == 1 & is_foreign != 1\n",
    "assert r(N) == 0\n",
    "quietly count if foreign == 0 & is_foreign != 0\n",
    "assert r(N) == 0\n",
    "display \"Part 2: Values correct - PASSED\""
   ]
  },
  {
   "cell_type": "markdown",
   "metadata": {},
   "source": [
    "## Question 3: Simple Regression (2 points)\n",
    "\n",
    "Run a regression of `price` on `mpg` and store the coefficient on `mpg` in a scalar called `mpg_coef`."
   ]
  },
  {
   "cell_type": "code",
   "execution_count": null,
   "metadata": {
    "deletable": false,
    "nbgrader": {
     "cell_type": "code",
     "checksum": "",
     "grade": false,
     "grade_id": "q3_answer",
     "locked": false,
     "schema_version": 3,
     "solution": true,
     "task": false
    }
   },
   "outputs": [],
   "source": [
    "* Run regression and store coefficient\n",
    "* YOUR CODE HERE\n",
    "regress price mpg\n",
    "scalar mpg_coef = _b[mpg]"
   ]
  },
  {
   "cell_type": "code",
   "execution_count": null,
   "metadata": {
    "deletable": false,
    "editable": false,
    "nbgrader": {
     "cell_type": "code",
     "checksum": "",
     "grade": true,
     "grade_id": "q3_test",
     "locked": true,
     "points": 2,
     "schema_version": 3,
     "solution": false,
     "task": false
    }
   },
   "outputs": [],
   "source": [
    "* Test\n",
    "capture scalar list mpg_coef\n",
    "assert _rc == 0\n",
    "\n",
    "quietly regress price mpg\n",
    "assert abs(mpg_coef - _b[mpg]) < 0.001\n",
    "\n",
    "display \"Question 3: PASSED\"\n",
    "display \"MPG coefficient: \" mpg_coef"
   ]
  }
 ],
 "metadata": {
  "kernelspec": {
   "display_name": "Stata (nbstata)",
   "language": "stata",
   "name": "nbstata"
  },
  "language_info": {
   "file_extension": ".do",
   "mimetype": "text/x-stata",
   "name": "stata",
   "version": "17"
  }
 },
 "nbformat": 4,
 "nbformat_minor": 4
}
