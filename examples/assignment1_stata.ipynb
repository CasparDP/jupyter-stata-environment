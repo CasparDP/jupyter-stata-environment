{
 "cells": [
  {
   "cell_type": "markdown",
   "metadata": {},
   "source": [
    "# Assignment 1: Stata Basics with Auto Dataset\n",
    "\n",
    "**Total Points: 10**\n",
    "\n",
    "This assignment will test your understanding of basic Stata commands using the built-in auto dataset."
   ]
  },
  {
   "cell_type": "markdown",
   "metadata": {},
   "source": [
    "## Setup (Read-only)\n",
    "\n",
    "Run this cell to load the data. Do not modify it."
   ]
  },
  {
   "cell_type": "code",
   "execution_count": 9,
   "metadata": {
    "deletable": false,
    "editable": false,
    "nbgrader": {
     "cell_type": "code",
     "checksum": "abc123",
     "grade": false,
     "grade_id": "setup",
     "locked": true,
     "schema_version": 3,
     "solution": false,
     "task": false
    }
   },
   "outputs": [
    {
     "name": "stdout",
     "output_type": "stream",
     "text": [
      "(1978 automobile data)\n",
      "(0 observations deleted)\n"
     ]
    }
   ],
   "source": [
    "* Load the auto dataset\n",
    "sysuse auto, clear\n",
    "* Ensure clean state\n",
    "drop if missing(price) | missing(mpg)"
   ]
  },
  {
   "cell_type": "markdown",
   "metadata": {},
   "source": [
    "## Question 1: Create a New Variable (2 points)\n",
    "\n",
    "Create a new variable called `expensive` that equals 1 if the car price is greater than 6000, and 0 otherwise."
   ]
  },
  {
   "cell_type": "code",
   "execution_count": 10,
   "metadata": {
    "deletable": false,
    "nbgrader": {
     "cell_type": "code",
     "checksum": "def456",
     "grade": false,
     "grade_id": "q1_answer",
     "locked": false,
     "schema_version": 3,
     "solution": true,
     "task": false
    }
   },
   "outputs": [],
   "source": [
    "* Create the expensive variable\n",
    "* YOUR CODE HERE\n",
    "gen expensive = price > 6000"
   ]
  },
  {
   "cell_type": "code",
   "execution_count": 11,
   "metadata": {
    "deletable": false,
    "editable": false,
    "nbgrader": {
     "cell_type": "code",
     "checksum": "ghi789",
     "grade": true,
     "grade_id": "q1_test",
     "locked": true,
     "points": 2,
     "schema_version": 3,
     "solution": false,
     "task": false
    }
   },
   "outputs": [
    {
     "name": "stdout",
     "output_type": "stream",
     "text": [
      "✓ Question 1 passed all tests!\n"
     ]
    }
   ],
   "source": [
    "* TEST CELL - DO NOT MODIFY\n",
    "* Check if expensive variable exists\n",
    "capture confirm variable expensive\n",
    "assert _rc == 0\n",
    "\n",
    "* Check the values are correct\n",
    "quietly count if price > 6000 & expensive != 1\n",
    "assert r(N) == 0\n",
    "quietly count if price <= 6000 & expensive != 0\n",
    "assert r(N) == 0\n",
    "\n",
    "* Check variable type\n",
    "quietly summarize expensive\n",
    "assert r(min) >= 0 & r(max) <= 1\n",
    "\n",
    "display \"✓ Question 1 passed all tests!\""
   ]
  },
  {
   "cell_type": "markdown",
   "metadata": {},
   "source": [
    "## Question 2: Calculate Summary Statistics (2 points)\n",
    "\n",
    "Calculate the mean price for foreign and domestic cars separately. Store the mean price of foreign cars in a scalar called `foreign_mean` and the mean price of domestic cars in a scalar called `domestic_mean`."
   ]
  },
  {
   "cell_type": "code",
   "execution_count": 12,
   "metadata": {
    "deletable": false,
    "nbgrader": {
     "cell_type": "code",
     "checksum": "jkl012",
     "grade": false,
     "grade_id": "q2_answer",
     "locked": false,
     "schema_version": 3,
     "solution": true,
     "task": false
    }
   },
   "outputs": [],
   "source": [
    "* Calculate mean prices by foreign status\n",
    "* YOUR CODE HERE\n",
    "quietly summarize price if foreign == 1\n",
    "scalar foreign_mean = r(mean)\n",
    "\n",
    "quietly summarize price if foreign == 0\n",
    "scalar domestic_mean = r(mean)"
   ]
  },
  {
   "cell_type": "code",
   "execution_count": 13,
   "metadata": {
    "deletable": false,
    "editable": false,
    "nbgrader": {
     "cell_type": "code",
     "checksum": "mno345",
     "grade": true,
     "grade_id": "q2_test",
     "locked": true,
     "points": 2,
     "schema_version": 3,
     "solution": false,
     "task": false
    }
   },
   "outputs": [
    {
     "name": "stdout",
     "output_type": "stream",
     "text": [
      "✓ Question 2 passed all tests!\n",
      "Foreign mean: 6384.6818\n",
      "Domestic mean: 6072.4231\n"
     ]
    }
   ],
   "source": [
    "* TEST CELL - DO NOT MODIFY\n",
    "* Check if scalars exist\n",
    "capture scalar list foreign_mean\n",
    "assert _rc == 0\n",
    "capture scalar list domestic_mean\n",
    "assert _rc == 0\n",
    "\n",
    "* Check the values are correct (with small tolerance for rounding)\n",
    "quietly summarize price if foreign == 1\n",
    "assert abs(foreign_mean - r(mean)) < 0.01\n",
    "\n",
    "quietly summarize price if foreign == 0\n",
    "assert abs(domestic_mean - r(mean)) < 0.01\n",
    "\n",
    "display \"✓ Question 2 passed all tests!\"\n",
    "display \"Foreign mean: \" foreign_mean\n",
    "display \"Domestic mean: \" domestic_mean"
   ]
  },
  {
   "cell_type": "markdown",
   "metadata": {},
   "source": [
    "## Question 3: Run a Regression (3 points)\n",
    "\n",
    "Run a regression of price on mpg, weight, and foreign. Store the R-squared value in a scalar called `rsq`."
   ]
  },
  {
   "cell_type": "code",
   "execution_count": null,
   "metadata": {
    "deletable": false,
    "nbgrader": {
     "cell_type": "code",
     "checksum": "pqr678",
     "grade": false,
     "grade_id": "q3_answer",
     "locked": false,
     "schema_version": 3,
     "solution": true,
     "task": false
    }
   },
   "outputs": [],
   "source": [
    "* Run the regression and store R-squared\n",
    "* YOUR CODE HERE\n",
    "regress price mpg weight foreign\n",
    "scalar rsq = e(r2)"
   ]
  },
  {
   "cell_type": "code",
   "execution_count": null,
   "metadata": {
    "deletable": false,
    "editable": false,
    "nbgrader": {
     "cell_type": "code",
     "checksum": "stu901",
     "grade": true,
     "grade_id": "q3_test",
     "locked": true,
     "points": 3,
     "schema_version": 3,
     "solution": false,
     "task": false
    }
   },
   "outputs": [],
   "source": [
    "* TEST CELL - DO NOT MODIFY\n",
    "* Check if scalar exists\n",
    "capture scalar list rsq\n",
    "assert _rc == 0\n",
    "\n",
    "* Run the correct regression to check\n",
    "quietly regress price mpg weight foreign\n",
    "assert abs(rsq - e(r2)) < 0.001\n",
    "\n",
    "* Check that R-squared is in valid range\n",
    "assert rsq >= 0 & rsq <= 1\n",
    "\n",
    "* Check that the regression was actually run (coefficients exist)\n",
    "assert e(N) > 0\n",
    "assert e(df_m) == 3\n",
    "\n",
    "display \"✓ Question 3 passed all tests!\"\n",
    "display \"R-squared: \" rsq"
   ]
  },
  {
   "cell_type": "markdown",
   "metadata": {},
   "source": [
    "## Question 4: Data Manipulation (3 points)\n",
    "\n",
    "1. Create a categorical variable `mpg_cat` with three categories:\n",
    "   - 1 = \"Low\" (mpg < 20)\n",
    "   - 2 = \"Medium\" (20 <= mpg < 25)\n",
    "   - 3 = \"High\" (mpg >= 25)\n",
    "2. Count how many cars are in each category and store the counts in scalars `n_low`, `n_medium`, and `n_high`."
   ]
  },
  {
   "cell_type": "code",
   "execution_count": null,
   "metadata": {
    "deletable": false,
    "nbgrader": {
     "cell_type": "code",
     "checksum": "vwx234",
     "grade": false,
     "grade_id": "q4_answer",
     "locked": false,
     "schema_version": 3,
     "solution": true,
     "task": false
    }
   },
   "outputs": [],
   "source": [
    "* Create categorical variable and count observations\n",
    "* YOUR CODE HERE\n",
    "generate mpg_cat = .\n",
    "replace mpg_cat = 1 if mpg < 20\n",
    "replace mpg_cat = 2 if mpg >= 20 & mpg < 25\n",
    "replace mpg_cat = 3 if mpg >= 25\n",
    "\n",
    "quietly count if mpg_cat == 1\n",
    "scalar n_low = r(N)\n",
    "\n",
    "quietly count if mpg_cat == 2\n",
    "scalar n_medium = r(N)\n",
    "\n",
    "quietly count if mpg_cat == 3\n",
    "scalar n_high = r(N)"
   ]
  },
  {
   "cell_type": "code",
   "execution_count": null,
   "metadata": {
    "deletable": false,
    "editable": false,
    "nbgrader": {
     "cell_type": "code",
     "checksum": "yz567",
     "grade": true,
     "grade_id": "q4_test",
     "locked": true,
     "points": 3,
     "schema_version": 3,
     "solution": false,
     "task": false
    }
   },
   "outputs": [],
   "source": [
    "* TEST CELL - DO NOT MODIFY\n",
    "* Check variable exists\n",
    "capture confirm variable mpg_cat\n",
    "assert _rc == 0\n",
    "\n",
    "* Check categorization is correct\n",
    "quietly count if mpg < 20 & mpg_cat != 1\n",
    "assert r(N) == 0\n",
    "quietly count if mpg >= 20 & mpg < 25 & mpg_cat != 2\n",
    "assert r(N) == 0\n",
    "quietly count if mpg >= 25 & mpg_cat != 3\n",
    "assert r(N) == 0\n",
    "\n",
    "* Check scalars exist and are correct\n",
    "capture scalar list n_low n_medium n_high\n",
    "assert _rc == 0\n",
    "\n",
    "quietly count if mpg_cat == 1\n",
    "assert n_low == r(N)\n",
    "quietly count if mpg_cat == 2\n",
    "assert n_medium == r(N)\n",
    "quietly count if mpg_cat == 3\n",
    "assert n_high == r(N)\n",
    "\n",
    "* Check total adds up\n",
    "assert n_low + n_medium + n_high == _N\n",
    "\n",
    "display \"✓ Question 4 passed all tests!\"\n",
    "display \"Low MPG cars: \" n_low\n",
    "display \"Medium MPG cars: \" n_medium\n",
    "display \"High MPG cars: \" n_high"
   ]
  },
  {
   "cell_type": "markdown",
   "metadata": {},
   "source": [
    "## Submission\n",
    "\n",
    "Great job! You've completed the assignment. Make sure all cells have been run and your outputs are visible."
   ]
  }
 ],
 "metadata": {
  "kernelspec": {
   "display_name": "Stata (nbstata)",
   "language": "stata",
   "name": "nbstata"
  },
  "language_info": {
   "file_extension": ".do",
   "mimetype": "text/x-stata",
   "name": "stata",
   "version": "17"
  }
 },
 "nbformat": 4,
 "nbformat_minor": 4
}
