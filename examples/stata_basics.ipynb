{
 "cells": [
  {
   "cell_type": "markdown",
   "metadata": {},
   "source": [
    "# Stata in Jupyter Example Notebook\n",
    "\n",
    "This notebook demonstrates how to use Stata within Jupyter Lab using the `nbstata` package."
   ]
  },
  {
   "cell_type": "markdown",
   "metadata": {},
   "source": [
    "## Basic Stata Commands\n",
    "\n",
    "First, let's load a built-in dataset and explore it:"
   ]
  },
  {
   "cell_type": "code",
   "execution_count": 1,
   "metadata": {},
   "outputs": [
    {
     "data": {
      "text/html": [
       "<style>div.jp-Notebook .datagrid-container {min-height: 448px; }</style>"
      ],
      "text/plain": [
       "<IPython.core.display.HTML object>"
      ]
     },
     "metadata": {},
     "output_type": "display_data"
    },
    {
     "name": "stdout",
     "output_type": "stream",
     "text": [
      "Unknown #command\n",
      "Unknown #command\n",
      "(1978 automobile data)\n",
      "\n",
      "Contains data from /Applications/Stata/ado/base/a/auto.dta\n",
      " Observations:            74                  1978 automobile data\n",
      "    Variables:            12                  13 Apr 2022 17:45\n",
      "                                              (_dta has notes)\n",
      "-------------------------------------------------------------------------------\n",
      "Variable      Storage   Display    Value\n",
      "    name         type    format    label      Variable label\n",
      "-------------------------------------------------------------------------------\n",
      "make            str18   %-18s                 Make and model\n",
      "price           int     %8.0gc                Price\n",
      "mpg             int     %8.0g                 Mileage (mpg)\n",
      "rep78           int     %8.0g                 Repair record 1978\n",
      "headroom        float   %6.1f                 Headroom (in.)\n",
      "trunk           int     %8.0g                 Trunk space (cu. ft.)\n",
      "weight          int     %8.0gc                Weight (lbs.)\n",
      "length          int     %8.0g                 Length (in.)\n",
      "turn            int     %8.0g                 Turn circle (ft.)\n",
      "displacement    int     %8.0g                 Displacement (cu. in.)\n",
      "gear_ratio      float   %6.2f                 Gear ratio\n",
      "foreign         byte    %8.0g      origin     Car origin\n",
      "-------------------------------------------------------------------------------\n",
      "Sorted by: foreign\n"
     ]
    }
   ],
   "source": [
    "# Load the auto dataset\n",
    "sysuse auto, clear\n",
    "\n",
    "# Display basic information\n",
    "describe"
   ]
  },
  {
   "cell_type": "markdown",
   "metadata": {},
   "source": [
    "## Summary Statistics"
   ]
  },
  {
   "cell_type": "code",
   "execution_count": 2,
   "metadata": {},
   "outputs": [
    {
     "name": "stdout",
     "output_type": "stream",
     "text": [
      "\n",
      "    Variable |        Obs        Mean    Std. dev.       Min        Max\n",
      "-------------+---------------------------------------------------------\n",
      "        make |          0\n",
      "       price |         74    6165.257    2949.496       3291      15906\n",
      "         mpg |         74     21.2973    5.785503         12         41\n",
      "       rep78 |         69    3.405797    .9899323          1          5\n",
      "    headroom |         74    2.993243    .8459948        1.5          5\n",
      "-------------+---------------------------------------------------------\n",
      "       trunk |         74    13.75676    4.277404          5         23\n",
      "      weight |         74    3019.459    777.1936       1760       4840\n",
      "      length |         74    187.9324    22.26634        142        233\n",
      "        turn |         74    39.64865    4.399354         31         51\n",
      "displacement |         74    197.2973    91.83722         79        425\n",
      "-------------+---------------------------------------------------------\n",
      "  gear_ratio |         74    3.014865    .4562871       2.19       3.89\n",
      "     foreign |         74    .2972973    .4601885          0          1\n",
      "\n",
      "                            Price\n",
      "-------------------------------------------------------------\n",
      "      Percentiles      Smallest\n",
      " 1%         3291           3291\n",
      " 5%         3748           3299\n",
      "10%         3895           3667       Obs                  74\n",
      "25%         4195           3748       Sum of wgt.          74\n",
      "\n",
      "50%       5006.5                      Mean           6165.257\n",
      "                        Largest       Std. dev.      2949.496\n",
      "75%         6342          13466\n",
      "90%        11385          13594       Variance        8699526\n",
      "95%        13466          14500       Skewness       1.653434\n",
      "99%        15906          15906       Kurtosis       4.819188\n",
      "\n",
      "                        Mileage (mpg)\n",
      "-------------------------------------------------------------\n",
      "      Percentiles      Smallest\n",
      " 1%           12             12\n",
      " 5%           14             12\n",
      "10%           14             14       Obs                  74\n",
      "25%           18             14       Sum of wgt.          74\n",
      "\n",
      "50%           20                      Mean            21.2973\n",
      "                        Largest       Std. dev.      5.785503\n",
      "75%           25             34\n",
      "90%           29             35       Variance       33.47205\n",
      "95%           34             35       Skewness       .9487176\n",
      "99%           41             41       Kurtosis       3.975005\n",
      "\n",
      "                        Weight (lbs.)\n",
      "-------------------------------------------------------------\n",
      "      Percentiles      Smallest\n",
      " 1%         1760           1760\n",
      " 5%         1830           1800\n",
      "10%         2020           1800       Obs                  74\n",
      "25%         2240           1830       Sum of wgt.          74\n",
      "\n",
      "50%         3190                      Mean           3019.459\n",
      "                        Largest       Std. dev.      777.1936\n",
      "75%         3600           4290\n",
      "90%         4060           4330       Variance       604029.8\n",
      "95%         4290           4720       Skewness       .1481164\n",
      "99%         4840           4840       Kurtosis       2.118403\n"
     ]
    }
   ],
   "source": [
    "* Get summary statistics for all variables\n",
    "summarize\n",
    "\n",
    "* Detailed summary for specific variables\n",
    "summarize price mpg weight, detail"
   ]
  },
  {
   "cell_type": "markdown",
   "metadata": {},
   "source": [
    "## Data Visualization"
   ]
  },
  {
   "cell_type": "code",
   "execution_count": 3,
   "metadata": {},
   "outputs": [
    {
     "data": {
      "image/png": "[encoded data removed]",
      "text/plain": [
       "<IPython.core.display.Image object>"
      ]
     },
     "metadata": {},
     "output_type": "display_data"
    }
   ],
   "source": [
    "* Create a scatter plot\n",
    "scatter price mpg, title(\"Price vs. Miles per Gallon\") xtitle(\"MPG\") ytitle(\"Price\")"
   ]
  },
  {
   "cell_type": "code",
   "execution_count": 4,
   "metadata": {},
   "outputs": [
    {
     "name": "stdout",
     "output_type": "stream",
     "text": [
      "(bin=10, start=3291, width=1261.5)\n"
     ]
    },
    {
     "data": {
      "image/png": "[encoded data removed]",
      "text/plain": [
       "<IPython.core.display.Image object>"
      ]
     },
     "metadata": {},
     "output_type": "display_data"
    }
   ],
   "source": [
    "* Create a histogram\n",
    "histogram price, bins(10) frequency title(\"Distribution of Car Prices\")"
   ]
  },
  {
   "cell_type": "markdown",
   "metadata": {},
   "source": [
    "## Regression Analysis"
   ]
  },
  {
   "cell_type": "code",
   "execution_count": 5,
   "metadata": {},
   "outputs": [
    {
     "name": "stdout",
     "output_type": "stream",
     "text": [
      "\n",
      "      Source |       SS           df       MS      Number of obs   =        74\n",
      "-------------+----------------------------------   F(3, 70)        =     23.29\n",
      "       Model |   317252881         3   105750960   Prob > F        =    0.0000\n",
      "    Residual |   317812515        70  4540178.78   R-squared       =    0.4996\n",
      "-------------+----------------------------------   Adj R-squared   =    0.4781\n",
      "       Total |   635065396        73  8699525.97   Root MSE        =    2130.8\n",
      "\n",
      "------------------------------------------------------------------------------\n",
      "       price | Coefficient  Std. err.      t    P>|t|     [95% conf. interval]\n",
      "-------------+----------------------------------------------------------------\n",
      "         mpg |    21.8536   74.22114     0.29   0.769    -126.1758     169.883\n",
      "      weight |   3.464706    .630749     5.49   0.000     2.206717    4.722695\n",
      "     foreign |    3673.06   683.9783     5.37   0.000     2308.909    5037.212\n",
      "       _cons |  -5853.696   3376.987    -1.73   0.087    -12588.88    881.4934\n",
      "------------------------------------------------------------------------------\n",
      "\n",
      "---------------------------\n",
      "    Variable |   Active    \n",
      "-------------+-------------\n",
      "         mpg |  21.853604  \n",
      "             |  74.221139  \n",
      "             |       0.29  \n",
      "             |     0.7693  \n",
      "      weight |  3.4647058  \n",
      "             |  .63074896  \n",
      "             |       5.49  \n",
      "             |     0.0000  \n",
      "     foreign |  3673.0604  \n",
      "             |  683.97827  \n",
      "             |       5.37  \n",
      "             |     0.0000  \n",
      "       _cons | -5853.6957  \n",
      "             |  3376.9874  \n",
      "             |      -1.73  \n",
      "             |     0.0874  \n",
      "---------------------------\n",
      "           Legend: b/se/t/p\n"
     ]
    }
   ],
   "source": [
    "* Simple linear regression\n",
    "regress price mpg weight foreign\n",
    "\n",
    "* Display results\n",
    "estimates table, b se t p"
   ]
  },
  {
   "cell_type": "code",
   "execution_count": 6,
   "metadata": {},
   "outputs": [
    {
     "name": "stdout",
     "output_type": "stream",
     "text": [
      "\n",
      "Breusch–Pagan/Cook–Weisberg test for heteroskedasticity \n",
      "Assumption: Normal error terms\n",
      "Variable: Fitted values of price\n",
      "\n",
      "H0: Constant variance\n",
      "\n",
      "    chi2(1) =   6.34\n",
      "Prob > chi2 = 0.0118\n"
     ]
    }
   ],
   "source": [
    "* Post-estimation diagnostics\n",
    "predict residuals, residuals\n",
    "predict fitted, xb\n",
    "\n",
    "* Check for heteroskedasticity\n",
    "estat hettest"
   ]
  },
  {
   "cell_type": "markdown",
   "metadata": {},
   "source": [
    "## Creating New Variables"
   ]
  },
  {
   "cell_type": "code",
   "execution_count": null,
   "metadata": {},
   "outputs": [],
   "source": [
    "* Create a categorical variable for price\n",
    "generate price_cat = .\n",
    "replace price_cat = 1 if price < 5000\n",
    "replace price_cat = 2 if price >= 5000 & price < 10000\n",
    "replace price_cat = 3 if price >= 10000\n",
    "\n",
    "label define price_label 1 \"Low\" 2 \"Medium\" 3 \"High\"\n",
    "label values price_cat price_label\n",
    "\n",
    "* Tabulate the new variable\n",
    "tabulate price_cat"
   ]
  },
  {
   "cell_type": "markdown",
   "metadata": {},
   "source": [
    "## Cross-tabulation and Tests"
   ]
  },
  {
   "cell_type": "code",
   "execution_count": 3,
   "metadata": {},
   "outputs": [
    {
     "ename": "SyntaxError",
     "evalue": "invalid syntax (703519745.py, line 1)",
     "output_type": "error",
     "traceback": [
      "  \u001b[36mCell\u001b[39m\u001b[36m \u001b[39m\u001b[32mIn[3]\u001b[39m\u001b[32m, line 1\u001b[39m\n\u001b[31m    \u001b[39m\u001b[31m* Cross-tabulation with chi-square test\u001b[39m\n                       ^\n\u001b[31mSyntaxError\u001b[39m\u001b[31m:\u001b[39m invalid syntax\n"
     ]
    }
   ],
   "source": [
    "* Cross-tabulation with chi-square test\n",
    "tabulate foreign price_cat, chi2 row"
   ]
  },
  {
   "cell_type": "markdown",
   "metadata": {},
   "source": [
    "## Correlation Matrix"
   ]
  },
  {
   "cell_type": "code",
   "execution_count": null,
   "metadata": {},
   "outputs": [],
   "source": [
    "* Correlation matrix for continuous variables\n",
    "correlate price mpg weight length turn displacement"
   ]
  },
  {
   "cell_type": "markdown",
   "metadata": {},
   "source": [
    "## Using Mata (Stata's Matrix Language)"
   ]
  },
  {
   "cell_type": "code",
   "execution_count": null,
   "metadata": {},
   "outputs": [],
   "source": [
    "* Simple matrix operations in Mata\n",
    "mata:\n",
    "    // Create a matrix\n",
    "    A = (1, 2, 3 \\ 4, 5, 6 \\ 7, 8, 9)\n",
    "    \n",
    "    // Display the matrix\n",
    "    A\n",
    "    \n",
    "    // Calculate determinant\n",
    "    det(A)\n",
    "    \n",
    "    // Calculate eigenvalues\n",
    "    eigensystem(A)\n",
    "end"
   ]
  },
  {
   "cell_type": "markdown",
   "metadata": {},
   "source": [
    "## Tips for Using Stata in Jupyter\n",
    "\n",
    "1. **Kernel**: Make sure you've selected the Stata kernel (not Python)\n",
    "2. **Comments**: Use `*` for single-line comments and `/* */` for multi-line\n",
    "3. **Help**: Use `help command_name` to get documentation\n",
    "4. **Working Directory**: Use `pwd` to see current directory and `cd` to change it\n",
    "5. **Data Import**: You can import various formats:\n",
    "   - CSV: `import delimited \"file.csv\", clear`\n",
    "   - Excel: `import excel \"file.xlsx\", clear firstrow`\n",
    "   - Stata: `use \"file.dta\", clear`"
   ]
  }
 ],
 "metadata": {
  "kernelspec": {
   "display_name": "Stata (nbstata)",
   "language": "stata",
   "name": "nbstata"
  },
  "language_info": {
   "file_extension": ".do",
   "mimetype": "text/x-stata",
   "name": "stata",
   "version": "17"
  }
 },
 "nbformat": 4,
 "nbformat_minor": 4
}
