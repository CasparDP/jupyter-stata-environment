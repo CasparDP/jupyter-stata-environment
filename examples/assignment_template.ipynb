{
 "cells": [
  {
   "cell_type": "markdown",
   "metadata": {},
   "source": [
    "# Assignment Template\n",
    "\n",
    "**Total Points: 10**\n",
    "\n",
    "This is a template for creating Stata assignments with auto-grading."
   ]
  },
  {
   "cell_type": "code",
   "execution_count": 2,
   "metadata": {
    "deletable": false,
    "editable": false,
    "nbgrader": {
     "cell_type": "code",
     "checksum": "",
     "grade": false,
     "grade_id": "setup",
     "locked": true,
     "schema_version": 3,
     "solution": false,
     "task": false
    }
   },
   "outputs": [
    {
     "name": "stdout",
     "output_type": "stream",
     "text": [
      "(1978 automobile data)\n"
     ]
    }
   ],
   "source": [
    "* Setup - DO NOT MODIFY\n",
    "clear all\n",
    "sysuse auto, clear"
   ]
  },
  {
   "cell_type": "markdown",
   "metadata": {},
   "source": [
    "## Question 1: Basic Calculation (2 points)\n",
    "\n",
    "Calculate the mean of `price` and store it in a scalar called `mean_price`."
   ]
  },
  {
   "cell_type": "code",
   "execution_count": 3,
   "metadata": {
    "deletable": false,
    "nbgrader": {
     "cell_type": "code",
     "checksum": "",
     "grade": false,
     "grade_id": "q1_answer",
     "locked": false,
     "schema_version": 3,
     "solution": true,
     "task": false
    }
   },
   "outputs": [
    {
     "name": "stdout",
     "output_type": "stream",
     "text": [
      "\n",
      "    Variable |        Obs        Mean    Std. dev.       Min        Max\n",
      "-------------+---------------------------------------------------------\n",
      "       price |         74    6165.257    2949.496       3291      15906\n"
     ]
    }
   ],
   "source": [
    "* YOUR CODE HERE\n",
    "summarize price\n",
    "scalar mean_price = r(mean)"
   ]
  },
  {
   "cell_type": "code",
   "execution_count": 4,
   "metadata": {
    "deletable": false,
    "editable": false,
    "nbgrader": {
     "cell_type": "code",
     "checksum": "",
     "grade": true,
     "grade_id": "q1_test",
     "locked": true,
     "points": 2,
     "schema_version": 3,
     "solution": false,
     "task": false
    }
   },
   "outputs": [
    {
     "name": "stdout",
     "output_type": "stream",
     "text": [
      "Test passed!\n"
     ]
    }
   ],
   "source": [
    "* TEST CELL - DO NOT MODIFY\n",
    "capture scalar list mean_price\n",
    "assert _rc == 0\n",
    "\n",
    "quietly summarize price\n",
    "assert abs(mean_price - r(mean)) < 0.01\n",
    "\n",
    "display \"Test passed!\""
   ]
  }
 ],
 "metadata": {
  "kernelspec": {
   "display_name": "Stata (nbstata)",
   "language": "stata",
   "name": "nbstata"
  },
  "language_info": {
   "file_extension": ".do",
   "mimetype": "text/x-stata",
   "name": "stata",
   "version": "17"
  }
 },
 "nbformat": 4,
 "nbformat_minor": 4
}
